{
 "cells": [
  {
   "cell_type": "code",
   "execution_count": 1,
   "metadata": {},
   "outputs": [
    {
     "name": "stdout",
     "output_type": "stream",
     "text": [
      "completed read data from DB\n",
      "converting tick data to 60 data\n",
      "completed tick data conversion\n",
      "calculating ma\n",
      "completed ma calc\n",
      "calculating rsi\n",
      "completed rsi calc\n"
     ]
    }
   ],
   "source": [
    "from MarketDataOneMinute import MarketDataOneMinute as md\n",
    "md.initialize(2019,1,1,2019,1,30)"
   ]
  },
  {
   "cell_type": "code",
   "execution_count": null,
   "metadata": {},
   "outputs": [],
   "source": [
    "import SimpleSimOhlc\n",
    "for i in range(10000):\n",
    "    sim = SimpleSimOhlc.SimpleSimOhlc()\n",
    "    res = sim.sim_contrarian_kairi(i,i+1000, '70',0.0028, 1912, 4607)\n",
    "    print(res[0])"
   ]
  },
  {
   "cell_type": "code",
   "execution_count": null,
   "metadata": {},
   "outputs": [],
   "source": [
    "from RegressionDataGenerator import RegressionDataGenerator as rdg\n",
    "x_train, y_train, x_test, y_test, ave, change = rdg.generate_lstm_ave_data(500,1000,50,0.33)"
   ]
  },
  {
   "cell_type": "code",
   "execution_count": null,
   "metadata": {},
   "outputs": [],
   "source": []
  },
  {
   "cell_type": "code",
   "execution_count": null,
   "metadata": {},
   "outputs": [],
   "source": []
  },
  {
   "cell_type": "code",
   "execution_count": null,
   "metadata": {},
   "outputs": [],
   "source": []
  },
  {
   "cell_type": "code",
   "execution_count": null,
   "metadata": {},
   "outputs": [],
   "source": [
    "len(MarketData.MarketData.price)"
   ]
  },
  {
   "cell_type": "code",
   "execution_count": null,
   "metadata": {},
   "outputs": [],
   "source": [
    "import SimpleSim\n",
    "s = SimpleSim.SimpleSim()\n",
    "s.simple_sim(10000, 172900, 5000, 0.001, 1000, 1500, 5)"
   ]
  },
  {
   "cell_type": "code",
   "execution_count": null,
   "metadata": {},
   "outputs": [],
   "source": [
    "MarketData.MarketData.convert_tick_to_minutes()"
   ]
  },
  {
   "cell_type": "code",
   "execution_count": null,
   "metadata": {},
   "outputs": [],
   "source": [
    "MarketData.MarketData.minutes_data"
   ]
  },
  {
   "cell_type": "code",
   "execution_count": null,
   "metadata": {},
   "outputs": [],
   "source": [
    "import pandas as pd\n",
    "d =[[1,2,'d'],[3,4,'f']]\n",
    "se = pd.Series(d)\n",
    "df = pd.DataFrame(se)\n",
    "df.columns = ['open', 'hihg', 'dt']"
   ]
  },
  {
   "cell_type": "code",
   "execution_count": null,
   "metadata": {},
   "outputs": [],
   "source": [
    "import MarketDataOneMinute\n",
    "MarketDataOneMinute.MarketDataOneMinute.initialize(2019,1,1,2019,1,30,60)"
   ]
  },
  {
   "cell_type": "code",
   "execution_count": null,
   "metadata": {},
   "outputs": [],
   "source": [
    "len(MarketDataOneMinute.MarketDataOneMinute.dt)"
   ]
  },
  {
   "cell_type": "code",
   "execution_count": null,
   "metadata": {},
   "outputs": [],
   "source": [
    "import SimpleSimOhlc\n",
    "%matplotlib inline\n",
    "import matplotlib.pyplot as plt\n",
    "sim = SimpleSimOhlc.SimpleSimOhlc()\n",
    "res = sim.sim_contrarian_kairi(5000,10000, '70',0.0028, 1912, 4607)\n",
    "plt.plot(res[3])\n",
    "# arams: {'kairi_term': 70, 'kairi_kijun': 28, 'pt': 1912, 'lc': 4607}"
   ]
  },
  {
   "cell_type": "code",
   "execution_count": null,
   "metadata": {},
   "outputs": [],
   "source": [
    "import SimpleSimOhlc\n",
    "%matplotlib inline\n",
    "import matplotlib.pyplot as plt\n",
    "\n",
    "sim = SimpleSimOhlc.SimpleSimOhlc()\n",
    "res = sim.sim_contrarian_kairi_conti_optuna(5000, 10000)\n",
    "plt.plot(res[3])"
   ]
  },
  {
   "cell_type": "code",
   "execution_count": 194,
   "metadata": {},
   "outputs": [
    {
     "ename": "ValueError",
     "evalue": "cannot reshape array of size 500500 into shape (500,1000)",
     "output_type": "error",
     "traceback": [
      "\u001b[0;31m---------------------------------------------------------------------------\u001b[0m",
      "\u001b[0;31mValueError\u001b[0m                                Traceback (most recent call last)",
      "\u001b[0;32m<ipython-input-194-6218af556130>\u001b[0m in \u001b[0;36m<module>\u001b[0;34m\u001b[0m\n\u001b[1;32m     20\u001b[0m     \u001b[0mx_train\u001b[0m \u001b[0;34m=\u001b[0m \u001b[0mnp\u001b[0m\u001b[0;34m.\u001b[0m\u001b[0marray\u001b[0m\u001b[0;34m(\u001b[0m\u001b[0mx\u001b[0m\u001b[0;34m)\u001b[0m\u001b[0;34m.\u001b[0m\u001b[0mreshape\u001b[0m\u001b[0;34m(\u001b[0m\u001b[0mint\u001b[0m\u001b[0;34m(\u001b[0m\u001b[0mfloat\u001b[0m\u001b[0;34m(\u001b[0m\u001b[0mlen\u001b[0m\u001b[0;34m(\u001b[0m\u001b[0mx\u001b[0m\u001b[0;34m)\u001b[0m\u001b[0;34m)\u001b[0m \u001b[0;34m/\u001b[0m \u001b[0mlength_of_sequence\u001b[0m\u001b[0;34m)\u001b[0m\u001b[0;34m,\u001b[0m\u001b[0mlength_of_sequence\u001b[0m\u001b[0;34m)\u001b[0m\u001b[0;34m\u001b[0m\u001b[0m\n\u001b[1;32m     21\u001b[0m     \u001b[0;32mreturn\u001b[0m \u001b[0mchange\u001b[0m\u001b[0;34m\u001b[0m\u001b[0m\n\u001b[0;32m---> 22\u001b[0;31m \u001b[0mchange\u001b[0m\u001b[0;34m=\u001b[0m\u001b[0mgenerate_lstm_ave_data\u001b[0m\u001b[0;34m(\u001b[0m\u001b[0;36m100\u001b[0m\u001b[0;34m,\u001b[0m \u001b[0;36m10000\u001b[0m\u001b[0;34m,\u001b[0m \u001b[0;36m1000\u001b[0m\u001b[0;34m,\u001b[0m \u001b[0;36m0.33\u001b[0m\u001b[0;34m)\u001b[0m\u001b[0;34m\u001b[0m\u001b[0m\n\u001b[0m",
      "\u001b[0;32m<ipython-input-194-6218af556130>\u001b[0m in \u001b[0;36mgenerate_lstm_ave_data\u001b[0;34m(start, end, length_of_sequence, test_size)\u001b[0m\n\u001b[1;32m     18\u001b[0m         \u001b[0mx\u001b[0m\u001b[0;34m.\u001b[0m\u001b[0mextend\u001b[0m\u001b[0;34m(\u001b[0m\u001b[0mchange\u001b[0m\u001b[0;34m[\u001b[0m\u001b[0mi\u001b[0m\u001b[0;34m:\u001b[0m\u001b[0mlength_of_sequence\u001b[0m\u001b[0;34m]\u001b[0m\u001b[0;34m)\u001b[0m\u001b[0;34m\u001b[0m\u001b[0m\n\u001b[1;32m     19\u001b[0m         \u001b[0;31m#y.append(i+length_of_sequence)\u001b[0m\u001b[0;34m\u001b[0m\u001b[0;34m\u001b[0m\u001b[0m\n\u001b[0;32m---> 20\u001b[0;31m     \u001b[0mx_train\u001b[0m \u001b[0;34m=\u001b[0m \u001b[0mnp\u001b[0m\u001b[0;34m.\u001b[0m\u001b[0marray\u001b[0m\u001b[0;34m(\u001b[0m\u001b[0mx\u001b[0m\u001b[0;34m)\u001b[0m\u001b[0;34m.\u001b[0m\u001b[0mreshape\u001b[0m\u001b[0;34m(\u001b[0m\u001b[0mint\u001b[0m\u001b[0;34m(\u001b[0m\u001b[0mfloat\u001b[0m\u001b[0;34m(\u001b[0m\u001b[0mlen\u001b[0m\u001b[0;34m(\u001b[0m\u001b[0mx\u001b[0m\u001b[0;34m)\u001b[0m\u001b[0;34m)\u001b[0m \u001b[0;34m/\u001b[0m \u001b[0mlength_of_sequence\u001b[0m\u001b[0;34m)\u001b[0m\u001b[0;34m,\u001b[0m\u001b[0mlength_of_sequence\u001b[0m\u001b[0;34m)\u001b[0m\u001b[0;34m\u001b[0m\u001b[0m\n\u001b[0m\u001b[1;32m     21\u001b[0m     \u001b[0;32mreturn\u001b[0m \u001b[0mchange\u001b[0m\u001b[0;34m\u001b[0m\u001b[0m\n\u001b[1;32m     22\u001b[0m \u001b[0mchange\u001b[0m\u001b[0;34m=\u001b[0m\u001b[0mgenerate_lstm_ave_data\u001b[0m\u001b[0;34m(\u001b[0m\u001b[0;36m100\u001b[0m\u001b[0;34m,\u001b[0m \u001b[0;36m10000\u001b[0m\u001b[0;34m,\u001b[0m \u001b[0;36m1000\u001b[0m\u001b[0;34m,\u001b[0m \u001b[0;36m0.33\u001b[0m\u001b[0;34m)\u001b[0m\u001b[0;34m\u001b[0m\u001b[0m\n",
      "\u001b[0;31mValueError\u001b[0m: cannot reshape array of size 500500 into shape (500,1000)"
     ]
    }
   ],
   "source": [
    "import numpy as np\n",
    "from sklearn import preprocessing\n",
    "\n",
    "\n",
    "def generate_lstm_ave_data(start, end, length_of_sequence, test_size = 0.33):\n",
    "    ave = []\n",
    "    for i in range(start, end):\n",
    "        ave.append((md.open[i]+md.high[i]+md.low[i]+md.close[i])/4.0)\n",
    "    change = []\n",
    "    for i in range(len(ave) - 1):\n",
    "        change.append(ave[i+1]/ave[i])\n",
    "    ca = np.array(change).reshape(-1,1)\n",
    "    scaler = preprocessing.MinMaxScaler(feature_range=(-1, 1))\n",
    "    change = list(list(scaler.fit_transform(ca).T)[0])\n",
    "    y = []\n",
    "    x= []\n",
    "    for i in range(len(change) - length_of_sequence +1):\n",
    "        x.extend(change[i:length_of_sequence])\n",
    "        #y.append(i+length_of_sequence)\n",
    "    x_train = np.array(x).reshape(int(float(len(x)) / length_of_sequence),length_of_sequence)\n",
    "    return change\n",
    "change=generate_lstm_ave_data(100, 10000, 1000, 0.33)"
   ]
  },
  {
   "cell_type": "code",
   "execution_count": 122,
   "metadata": {},
   "outputs": [],
   "source": [
    "li = change.tolist()\n",
    "xli = []\n",
    "length = 1000\n",
    "for i in range(len(li)-length+1):\n",
    "    xli.extend(li[i:1000+i])"
   ]
  },
  {
   "cell_type": "code",
   "execution_count": null,
   "metadata": {},
   "outputs": [],
   "source": [
    "length = 1000\n",
    "np.array(xli).reshape(int(float(len(xli)) / length), length)"
   ]
  },
  {
   "cell_type": "code",
   "execution_count": 126,
   "metadata": {},
   "outputs": [],
   "source": [
    "tli = [1,2,3,4,5,6,7,8,9,10]\n",
    "t = []\n",
    "for i in range(len(tli)-4):\n",
    "    t.extend(tli[i:i+5])\n",
    "nep = np.array(t).T.reshape(6,5)"
   ]
  },
  {
   "cell_type": "code",
   "execution_count": 189,
   "metadata": {},
   "outputs": [],
   "source": [
    "t= []\n",
    "t.extend(change[0:10])"
   ]
  },
  {
   "cell_type": "code",
   "execution_count": 191,
   "metadata": {},
   "outputs": [
    {
     "data": {
      "text/plain": [
       "array([[-0.12404613, -0.07289927],\n",
       "       [-0.04427736, -0.13054605],\n",
       "       [-0.10269001, -0.0594239 ],\n",
       "       [-0.06851349, -0.01695898],\n",
       "       [-0.07844337, -0.03663501]])"
      ]
     },
     "execution_count": 191,
     "metadata": {},
     "output_type": "execute_result"
    }
   ],
   "source": [
    "np.array(t).reshape(5,2)"
   ]
  },
  {
   "cell_type": "code",
   "execution_count": 192,
   "metadata": {},
   "outputs": [
    {
     "data": {
      "text/plain": [
       "[-0.12404613134120268,\n",
       " -0.07289927324876544,\n",
       " -0.04427736016960182,\n",
       " -0.1305460486872505,\n",
       " -0.10269001380241605,\n",
       " -0.059423901281491,\n",
       " -0.06851348572953952,\n",
       " -0.016958982902536945,\n",
       " -0.07844337303376392,\n",
       " -0.0366350099735655]"
      ]
     },
     "execution_count": 192,
     "metadata": {},
     "output_type": "execute_result"
    }
   ],
   "source": [
    "t"
   ]
  },
  {
   "cell_type": "code",
   "execution_count": null,
   "metadata": {},
   "outputs": [],
   "source": []
  }
 ],
 "metadata": {
  "kernelspec": {
   "display_name": "Python 3",
   "language": "python",
   "name": "python3"
  },
  "language_info": {
   "codemirror_mode": {
    "name": "ipython",
    "version": 3
   },
   "file_extension": ".py",
   "mimetype": "text/x-python",
   "name": "python",
   "nbconvert_exporter": "python",
   "pygments_lexer": "ipython3",
   "version": "3.6.3"
  }
 },
 "nbformat": 4,
 "nbformat_minor": 2
}
