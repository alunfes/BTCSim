{
 "cells": [
  {
   "cell_type": "code",
   "execution_count": 64,
   "metadata": {},
   "outputs": [
    {
     "name": "stdout",
     "output_type": "stream",
     "text": [
      "2019-01-30 21:19:55,761 INFO sqlalchemy.engine.base.Engine SELECT CAST('test plain returns' AS VARCHAR(60)) AS anon_1\n",
      "2019-01-30 21:19:55,763 INFO sqlalchemy.engine.base.Engine ()\n",
      "2019-01-30 21:19:55,767 INFO sqlalchemy.engine.base.Engine SELECT CAST('test unicode returns' AS VARCHAR(60)) AS anon_1\n",
      "2019-01-30 21:19:55,767 INFO sqlalchemy.engine.base.Engine ()\n",
      "2019-01-30 21:19:55,771 INFO sqlalchemy.engine.base.Engine PRAGMA table_info(\"tick\")\n",
      "2019-01-30 21:19:55,772 INFO sqlalchemy.engine.base.Engine ()\n",
      "2019-01-30 21:19:55,778 INFO sqlalchemy.engine.base.Engine \n",
      "CREATE TABLE tick (\n",
      "\tdatetime DATETIME, \n",
      "\tprice FLOAT, \n",
      "\tsize FLOAT\n",
      ")\n",
      "\n",
      "\n",
      "2019-01-30 21:19:55,779 INFO sqlalchemy.engine.base.Engine ()\n",
      "2019-01-30 21:19:55,783 INFO sqlalchemy.engine.base.Engine COMMIT\n",
      "2019-01-30 21:19:55,788 INFO sqlalchemy.engine.base.Engine BEGIN (implicit)\n",
      "2019-01-30 21:19:55,893 INFO sqlalchemy.engine.base.Engine INSERT INTO tick (datetime, price, size) VALUES (?, ?, ?)\n",
      "2019-01-30 21:19:55,894 INFO sqlalchemy.engine.base.Engine (('2017-07-04 17:01:38.000000', 296127.0, 0.01), ('2017-07-04 17:01:38.000000', 296016.0, 0.6), ('2017-07-04 17:01:39.000000', 296016.0, 0.0186), ('2017-07-04 17:01:42.000000', 296550.0, 0.05), ('2017-07-04 17:01:50.000000', 296558.0, 0.05), ('2017-07-04 17:01:59.000000', 296539.0, 0.22919708), ('2017-07-04 17:01:59.000000', 296540.0, 0.20080292), ('2017-07-04 17:02:07.000000', 296539.0, 0.04583026)  ... displaying 10 of 10000 total bound parameter sets ...  ('2017-07-05 00:16:20.000000', 290564.0, 0.0369), ('2017-07-05 00:16:21.000000', 290564.0, 1.9231))\n",
      "2019-01-30 21:19:55,935 INFO sqlalchemy.engine.base.Engine COMMIT\n"
     ]
    }
   ],
   "source": [
    "import pandas as pd\n",
    "from datetime import datetime\n",
    "import numpy as np\n",
    "from sqlalchemy import create_engine\n",
    "\n",
    "def read():\n",
    "    dt = None\n",
    "    price = None\n",
    "    size = None\n",
    "    i = 0\n",
    "    engine = create_engine('sqlite:///tick.db', echo=True)\n",
    "    #connex = engine.connect()\n",
    "    for chunk in pd.read_csv(\"tick.csv\", chunksize=10000, header=None):\n",
    "        dt = chunk.iloc[:,:1].applymap(datetime.fromtimestamp)\n",
    "        price = chunk.iloc[:,1:2]\n",
    "        size = chunk.iloc[:,2:3]\n",
    "        con = pd.concat([dt, price, size], axis=1)\n",
    "        con.columns = ['datetime','price','size']\n",
    "        con.to_sql('tick', engine, if_exists=\"replace\", index=False)\n",
    "        break\n",
    "    return engine\n",
    "engine = read()"
   ]
  },
  {
   "cell_type": "code",
   "execution_count": 65,
   "metadata": {},
   "outputs": [
    {
     "name": "stdout",
     "output_type": "stream",
     "text": [
      "2019-01-30 21:20:58,910 INFO sqlalchemy.engine.base.Engine PRAGMA table_info(\"select * from tick\")\n",
      "2019-01-30 21:20:58,912 INFO sqlalchemy.engine.base.Engine ()\n",
      "2019-01-30 21:20:58,915 INFO sqlalchemy.engine.base.Engine select * from tick\n",
      "2019-01-30 21:20:58,915 INFO sqlalchemy.engine.base.Engine ()\n"
     ]
    }
   ],
   "source": [
    "d = pd.read_sql('select * from tick',engine)"
   ]
  },
  {
   "cell_type": "code",
   "execution_count": 66,
   "metadata": {},
   "outputs": [
    {
     "name": "stdout",
     "output_type": "stream",
     "text": [
      "                        datetime     price      size\n",
      "0     2017-07-04 17:01:38.000000  296127.0  0.010000\n",
      "1     2017-07-04 17:01:38.000000  296016.0  0.600000\n",
      "2     2017-07-04 17:01:39.000000  296016.0  0.018600\n",
      "3     2017-07-04 17:01:42.000000  296550.0  0.050000\n",
      "4     2017-07-04 17:01:50.000000  296558.0  0.050000\n",
      "5     2017-07-04 17:01:59.000000  296539.0  0.229197\n",
      "6     2017-07-04 17:01:59.000000  296540.0  0.200803\n",
      "7     2017-07-04 17:02:07.000000  296539.0  0.045830\n",
      "8     2017-07-04 17:02:07.000000  296540.0  1.010000\n",
      "9     2017-07-04 17:02:07.000000  296560.0  0.010000\n",
      "10    2017-07-04 17:02:07.000000  296621.0  2.000000\n",
      "11    2017-07-04 17:02:07.000000  296660.0  0.050000\n",
      "12    2017-07-04 17:02:07.000000  296660.0  0.050000\n",
      "13    2017-07-04 17:02:07.000000  296660.0  0.008900\n",
      "14    2017-07-04 17:02:07.000000  296660.0  0.023647\n",
      "15    2017-07-04 17:02:07.000000  296680.0  0.010000\n",
      "16    2017-07-04 17:02:07.000000  296690.0  0.010000\n",
      "17    2017-07-04 17:02:07.000000  296700.0  0.002000\n",
      "18    2017-07-04 17:02:07.000000  296750.0  0.001409\n",
      "19    2017-07-04 17:02:10.000000  296745.0  0.050000\n",
      "20    2017-07-04 17:02:11.000000  296304.0  0.050000\n",
      "21    2017-07-04 17:02:16.000000  296355.0  0.050000\n",
      "22    2017-07-04 17:02:17.000000  296306.0  0.045000\n",
      "23    2017-07-04 17:02:17.000000  296306.0  0.021956\n",
      "24    2017-07-04 17:02:17.000000  296769.0  0.001685\n",
      "25    2017-07-04 17:02:18.000000  296306.0  1.019900\n",
      "26    2017-07-04 17:02:20.000000  296517.0  0.050000\n",
      "27    2017-07-04 17:02:21.000000  296517.0  0.050000\n",
      "28    2017-07-04 17:02:21.000000  296218.0  1.019900\n",
      "29    2017-07-04 17:02:24.000000  296518.0  0.600000\n",
      "...                          ...       ...       ...\n",
      "9970  2017-07-05 00:15:54.000000  290720.0  1.010000\n",
      "9971  2017-07-05 00:15:55.000000  290719.0  0.016500\n",
      "9972  2017-07-05 00:15:57.000000  290719.0  0.016500\n",
      "9973  2017-07-05 00:15:57.000000  290690.0  0.016500\n",
      "9974  2017-07-05 00:15:57.000000  290514.0  1.283500\n",
      "9975  2017-07-05 00:15:58.000000  290719.0  0.212000\n",
      "9976  2017-07-05 00:15:58.000000  290719.0  0.009659\n",
      "9977  2017-07-05 00:15:58.000000  290720.0  0.030341\n",
      "9978  2017-07-05 00:15:59.000000  290720.0  0.133900\n",
      "9979  2017-07-05 00:16:01.000000  290720.0  0.061800\n",
      "9980  2017-07-05 00:16:01.000000  290720.0  0.010000\n",
      "9981  2017-07-05 00:16:02.000000  290719.0  1.030100\n",
      "9982  2017-07-05 00:16:04.000000  290719.0  0.047570\n",
      "9983  2017-07-05 00:16:04.000000  290720.0  0.982530\n",
      "9984  2017-07-05 00:16:05.000000  290720.0  1.823657\n",
      "9985  2017-07-05 00:16:05.000000  290770.0  0.245443\n",
      "9986  2017-07-05 00:16:06.000000  290770.0  0.230000\n",
      "9987  2017-07-05 00:16:07.000000  290770.0  0.522400\n",
      "9988  2017-07-05 00:16:07.000000  290770.0  0.230000\n",
      "9989  2017-07-05 00:16:08.000000  290769.0  0.040000\n",
      "9990  2017-07-05 00:16:09.000000  290769.0  0.175491\n",
      "9991  2017-07-05 00:16:09.000000  290770.0  0.854609\n",
      "9992  2017-07-05 00:16:10.000000  290770.0  1.010000\n",
      "9993  2017-07-05 00:16:12.000000  290770.0  0.010000\n",
      "9994  2017-07-05 00:16:12.000000  290770.0  1.030100\n",
      "9995  2017-07-05 00:16:14.000000  290769.0  0.100000\n",
      "9996  2017-07-05 00:16:16.000000  290690.0  0.166500\n",
      "9997  2017-07-05 00:16:19.000000  290564.0  0.040000\n",
      "9998  2017-07-05 00:16:20.000000  290564.0  0.036900\n",
      "9999  2017-07-05 00:16:21.000000  290564.0  1.923100\n",
      "\n",
      "[10000 rows x 3 columns]\n"
     ]
    }
   ],
   "source": [
    "print(d)"
   ]
  },
  {
   "cell_type": "code",
   "execution_count": 12,
   "metadata": {},
   "outputs": [],
   "source": [
    "from sqlalchemy.ext.declarative import declarative_base\n",
    "from sqlalchemy import Column, Integer, Float, DATETIME\n",
    "from sqlalchemy import create_engine\n",
    "from sqlalchemy.orm import sessionmaker\n",
    "from sqlalchemy import create_engine, schema, Table, and_\n",
    "import datetime\n",
    "Base = declarative_base()\n",
    "from numba import jit\n",
    "\n",
    "\n",
    "class Ticks(Base):\n",
    "    __tablename__ = 'ticks'\n",
    "    id = Column('id', Integer, primary_key=True, autoincrement=False)\n",
    "    datetime = Column('datetime', DATETIME)\n",
    "    price = Column('price', Float)\n",
    "    size = Column('size', Float)\n",
    "\n",
    "    def __repr__(self):\n",
    "        return 'Ticks(%s, %s, %s, %s)' % (self.id, self.datetime, self.price, self.size)\n",
    "\n",
    "    \n",
    "class SqliteDBAdmin:\n",
    "    @classmethod\n",
    "    def initialize(cls):\n",
    "        cls.engine = create_engine('sqlite:///tick.db', echo=False)\n",
    "\n",
    "    @classmethod\n",
    "    def create_table(cls):\n",
    "        Base.metadata.create_all(bind=cls.engine, checkfirst=False)\n",
    "        \n",
    "    @classmethod\n",
    "    def read_from_sqlite(cls,year_s, month_s, day_s, year_e, month_e, day_e):\n",
    "        Session = sessionmaker(bind=cls.engine)\n",
    "        session = Session()\n",
    "        with cls.engine.connect() as conn:\n",
    "            res = session.query(Ticks).filter(and_(Ticks.datetime <= datetime.date(year_e, month_e, day_e), \n",
    "                                                   Ticks.datetime >= datetime.date(year_s, month_s, day_s))).all()\n",
    "            session.close()\n",
    "            return res\n",
    "        \n",
    "SqliteDBAdmin.initialize()\n",
    "#SqliteDBAdmin.create_table()\n",
    "res = SqliteDBAdmin.read_from_sqlite(2018,10,1,2018,10,2)"
   ]
  },
  {
   "cell_type": "code",
   "execution_count": 13,
   "metadata": {},
   "outputs": [],
   "source": [
    "price = []\n",
    "size = []\n",
    "datetime = []\n",
    "for tick in res:\n",
    "    datetime.append(tick.datetime)\n",
    "    price.append(tick.price)\n",
    "    size.append(tick.size)"
   ]
  },
  {
   "cell_type": "code",
   "execution_count": 32,
   "metadata": {},
   "outputs": [],
   "source": [
    "maa ={}\n",
    "kairi = {}\n",
    "\n",
    "@jit\n",
    "def calc_ma(term):\n",
    "    sum = 0\n",
    "    ma = []\n",
    "    for i in range(term):\n",
    "        ma.append(0)\n",
    "        sum += price[i]\n",
    "    for i in range(len(price) - term):\n",
    "        sum = sum + price[i + term] - price[i]\n",
    "        ma.append(sum / term)\n",
    "    return ma\n",
    "\n",
    "@jit\n",
    "def calc_all_ma():\n",
    "    for i in range(10):\n",
    "        term = (i+1) * 100\n",
    "        maa[str(term)] = calc_ma(term)\n",
    "\n",
    "@jit\n",
    "def calc_ma_kairi():\n",
    "    for m in maa:\n",
    "        k = []\n",
    "        num_v = int(m)\n",
    "        for i in range(num_v):\n",
    "            k.append(0)\n",
    "        for i in range(len(maa[m]) - num_v):\n",
    "            k.append(price[i+num_v] / maa[m][i+num_v])\n",
    "        kairi[m] = k\n",
    "\n",
    "calc_all_ma()\n",
    "calc_ma_kairi()"
   ]
  },
  {
   "cell_type": "code",
   "execution_count": null,
   "metadata": {},
   "outputs": [],
   "source": [
    "kairi['100']"
   ]
  },
  {
   "cell_type": "code",
   "execution_count": 35,
   "metadata": {},
   "outputs": [
    {
     "data": {
      "text/plain": [
       "0.25"
      ]
     },
     "execution_count": 35,
     "metadata": {},
     "output_type": "execute_result"
    }
   ],
   "source": [
    "100/80 - 1"
   ]
  },
  {
   "cell_type": "code",
   "execution_count": null,
   "metadata": {},
   "outputs": [],
   "source": []
  }
 ],
 "metadata": {
  "kernelspec": {
   "display_name": "Python 3",
   "language": "python",
   "name": "python3"
  },
  "language_info": {
   "codemirror_mode": {
    "name": "ipython",
    "version": 3
   },
   "file_extension": ".py",
   "mimetype": "text/x-python",
   "name": "python",
   "nbconvert_exporter": "python",
   "pygments_lexer": "ipython3",
   "version": "3.6.3"
  }
 },
 "nbformat": 4,
 "nbformat_minor": 2
}
