{
 "cells": [
  {
   "cell_type": "code",
   "execution_count": 64,
   "metadata": {},
   "outputs": [
    {
     "name": "stdout",
     "output_type": "stream",
     "text": [
      "2019-01-30 21:19:55,761 INFO sqlalchemy.engine.base.Engine SELECT CAST('test plain returns' AS VARCHAR(60)) AS anon_1\n",
      "2019-01-30 21:19:55,763 INFO sqlalchemy.engine.base.Engine ()\n",
      "2019-01-30 21:19:55,767 INFO sqlalchemy.engine.base.Engine SELECT CAST('test unicode returns' AS VARCHAR(60)) AS anon_1\n",
      "2019-01-30 21:19:55,767 INFO sqlalchemy.engine.base.Engine ()\n",
      "2019-01-30 21:19:55,771 INFO sqlalchemy.engine.base.Engine PRAGMA table_info(\"tick\")\n",
      "2019-01-30 21:19:55,772 INFO sqlalchemy.engine.base.Engine ()\n",
      "2019-01-30 21:19:55,778 INFO sqlalchemy.engine.base.Engine \n",
      "CREATE TABLE tick (\n",
      "\tdatetime DATETIME, \n",
      "\tprice FLOAT, \n",
      "\tsize FLOAT\n",
      ")\n",
      "\n",
      "\n",
      "2019-01-30 21:19:55,779 INFO sqlalchemy.engine.base.Engine ()\n",
      "2019-01-30 21:19:55,783 INFO sqlalchemy.engine.base.Engine COMMIT\n",
      "2019-01-30 21:19:55,788 INFO sqlalchemy.engine.base.Engine BEGIN (implicit)\n",
      "2019-01-30 21:19:55,893 INFO sqlalchemy.engine.base.Engine INSERT INTO tick (datetime, price, size) VALUES (?, ?, ?)\n",
      "2019-01-30 21:19:55,894 INFO sqlalchemy.engine.base.Engine (('2017-07-04 17:01:38.000000', 296127.0, 0.01), ('2017-07-04 17:01:38.000000', 296016.0, 0.6), ('2017-07-04 17:01:39.000000', 296016.0, 0.0186), ('2017-07-04 17:01:42.000000', 296550.0, 0.05), ('2017-07-04 17:01:50.000000', 296558.0, 0.05), ('2017-07-04 17:01:59.000000', 296539.0, 0.22919708), ('2017-07-04 17:01:59.000000', 296540.0, 0.20080292), ('2017-07-04 17:02:07.000000', 296539.0, 0.04583026)  ... displaying 10 of 10000 total bound parameter sets ...  ('2017-07-05 00:16:20.000000', 290564.0, 0.0369), ('2017-07-05 00:16:21.000000', 290564.0, 1.9231))\n",
      "2019-01-30 21:19:55,935 INFO sqlalchemy.engine.base.Engine COMMIT\n"
     ]
    }
   ],
   "source": [
    "import pandas as pd\n",
    "from datetime import datetime\n",
    "import numpy as np\n",
    "from sqlalchemy import create_engine\n",
    "\n",
    "def read():\n",
    "    dt = None\n",
    "    price = None\n",
    "    size = None\n",
    "    i = 0\n",
    "    engine = create_engine('sqlite:///tick.db', echo=True)\n",
    "    #connex = engine.connect()\n",
    "    for chunk in pd.read_csv(\"tick.csv\", chunksize=10000, header=None):\n",
    "        dt = chunk.iloc[:,:1].applymap(datetime.fromtimestamp)\n",
    "        price = chunk.iloc[:,1:2]\n",
    "        size = chunk.iloc[:,2:3]\n",
    "        con = pd.concat([dt, price, size], axis=1)\n",
    "        con.columns = ['datetime','price','size']\n",
    "        con.to_sql('tick', engine, if_exists=\"replace\", index=False)\n",
    "        break\n",
    "    return engine\n",
    "engine = read()"
   ]
  },
  {
   "cell_type": "code",
   "execution_count": 2,
   "metadata": {},
   "outputs": [],
   "source": [
    "from sqlalchemy.ext.declarative import declarative_base\n",
    "from sqlalchemy import Column, Integer, Float, DATETIME\n",
    "from sqlalchemy import create_engine\n",
    "from sqlalchemy.orm import sessionmaker\n",
    "from sqlalchemy import create_engine, schema, Table, and_\n",
    "import datetime\n",
    "Base = declarative_base()\n",
    "from numba import jit\n",
    "\n",
    "\n",
    "class Ticks(Base):\n",
    "    __tablename__ = 'ticks'\n",
    "    id = Column('id', Integer, primary_key=True, autoincrement=False)\n",
    "    datetime = Column('datetime', DATETIME)\n",
    "    price = Column('price', Float)\n",
    "    size = Column('size', Float)\n",
    "\n",
    "    def __repr__(self):\n",
    "        return 'Ticks(%s, %s, %s, %s)' % (self.id, self.datetime, self.price, self.size)\n",
    "\n",
    "    \n",
    "class SqliteDBAdmin:\n",
    "    @classmethod\n",
    "    def initialize(cls):\n",
    "        cls.engine = create_engine('sqlite:///tick.db', echo=False)\n",
    "\n",
    "    @classmethod\n",
    "    def create_table(cls):\n",
    "        Base.metadata.create_all(bind=cls.engine, checkfirst=False)\n",
    "        \n",
    "    @classmethod\n",
    "    def read_from_sqlite(cls,year_s, month_s, day_s, year_e, month_e, day_e):\n",
    "        Session = sessionmaker(bind=cls.engine)\n",
    "        session = Session()\n",
    "        with cls.engine.connect() as conn:\n",
    "            res = session.query(Ticks).filter(and_(Ticks.datetime <= datetime.date(year_e, month_e, day_e), \n",
    "                                                   Ticks.datetime >= datetime.date(year_s, month_s, day_s))).all()\n",
    "            session.close()\n",
    "            return res\n",
    "        \n",
    "SqliteDBAdmin.initialize()\n",
    "#SqliteDBAdmin.create_table()\n",
    "res = SqliteDBAdmin.read_from_sqlite(2019,1,10,2019,1,11)"
   ]
  },
  {
   "cell_type": "code",
   "execution_count": null,
   "metadata": {},
   "outputs": [],
   "source": [
    "price = []\n",
    "size = []\n",
    "datetime = []\n",
    "for tick in res:\n",
    "    print(tick.datetime,tick.price,tick.size)"
   ]
  },
  {
   "cell_type": "code",
   "execution_count": 5,
   "metadata": {},
   "outputs": [
    {
     "name": "stdout",
     "output_type": "stream",
     "text": [
      "completed read data from DB\n",
      "completed appended data to list\n",
      "calculating ma, term=100\n",
      "completed ma calc\n",
      "calculating ma, term=200\n",
      "completed ma calc\n",
      "calculating ma, term=300\n",
      "completed ma calc\n",
      "calculating ma, term=400\n",
      "completed ma calc\n",
      "calculating ma, term=500\n",
      "completed ma calc\n",
      "calculating ma, term=600\n",
      "completed ma calc\n",
      "calculating ma, term=700\n",
      "completed ma calc\n",
      "calculating ma, term=800\n",
      "completed ma calc\n",
      "calculating ma, term=900\n",
      "completed ma calc\n",
      "calculating ma, term=1000\n",
      "completed ma calc\n"
     ]
    }
   ],
   "source": [
    "import pandas as pd\n",
    "import numpy as np\n",
    "from SqliteDBAdmin import SqliteDBAdmin\n",
    "from numba import jit\n",
    "import datetime\n",
    "\n",
    "\n",
    "class MarketData:\n",
    "    @classmethod\n",
    "    def initialize(cls, year_s, month_s, day_s, year_e, month_e, day_e):\n",
    "        cls.datetime = []\n",
    "        cls.id = []\n",
    "        cls.price = []\n",
    "        cls.size = []\n",
    "        cls.ma = {}\n",
    "        cls.ma_kairi = {}\n",
    "\n",
    "        SqliteDBAdmin.initialize()\n",
    "        ticks = SqliteDBAdmin.read_from_sqlite(year_s, month_s, day_s, year_e, month_e, day_e)\n",
    "        print('completed read data from DB')\n",
    "        for tick in ticks:\n",
    "            #cls.datetime.append(datetime.datetime.strptime(tick.datetime, '%m/%d/%Y%H:%M:%S'))\n",
    "            cls.datetime.append(tick.datetime)\n",
    "            cls.id.append(tick.id)\n",
    "            cls.price.append(tick.price)\n",
    "            cls.size.append(tick.size)\n",
    "        print('completed appended data to list')\n",
    "        cls.__calc_all_ma()\n",
    "        cls.__calc_ma_kairi()\n",
    "\n",
    "\n",
    "    @classmethod\n",
    "    @jit\n",
    "    def __calc_ma(cls, term):\n",
    "        print('calculating ma, term='+str(term))\n",
    "        sum = 0\n",
    "        ma = []\n",
    "        for i in range(term):\n",
    "            ma.append(0)\n",
    "            sum += cls.price[i]\n",
    "        ma.pop(0)\n",
    "        ma.append(float(sum) / float(term))\n",
    "        for i in range(len(cls.price) - term - 1):\n",
    "            sum = sum + cls.price[i + term] - cls.price[i]\n",
    "            ma.append(float(sum) / float(term))\n",
    "        print('completed ma calc')\n",
    "        return ma\n",
    "\n",
    "    @classmethod\n",
    "    @jit\n",
    "    def __calc_all_ma(cls):\n",
    "        for i in range(10):\n",
    "            term = (i+1) * 100\n",
    "            cls.ma[str(term)] = cls.__calc_ma(term)\n",
    "\n",
    "    @classmethod\n",
    "    @jit\n",
    "    def __calc_ma_kairi(cls):\n",
    "        for m in cls.ma:\n",
    "            kairi = []\n",
    "            num_v = int(m)\n",
    "            for i in range(num_v-1):\n",
    "                kairi.append(0)\n",
    "            for i in range(len(cls.ma[m]) - num_v+1):\n",
    "                kairi.append(cls.price[i + num_v-1] / cls.ma[m][i + num_v-1])\n",
    "            cls.ma_kairi[m] = kairi\n",
    "\n",
    "\n",
    "MarketData.initialize(2018,10,1,2018,10,2)"
   ]
  },
  {
   "cell_type": "code",
   "execution_count": 40,
   "metadata": {},
   "outputs": [],
   "source": [
    "oid = [0,1,2]\n",
    "op = [100,200,100]\n",
    "\n",
    "def testf():\n",
    "    def inner_f(x):\n",
    "        op[x] = op[x]+1\n",
    "        filter(inner_f(x) ,oid)\n",
    "testf()"
   ]
  },
  {
   "cell_type": "code",
   "execution_count": 1,
   "metadata": {},
   "outputs": [],
   "source": [
    "import pandas as pd\n",
    "import numpy as np\n",
    "from SqliteDBAdmin import SqliteDBAdmin\n",
    "from numba import jit\n",
    "from datetime import datetime as dt\n",
    "\n",
    "\n",
    "class MarketData:\n",
    "    @classmethod\n",
    "    def initialize(cls, year_s, month_s, day_s, year_e, month_e, day_e):\n",
    "        cls.datetime = []\n",
    "        cls.id = []\n",
    "        cls.price = []\n",
    "        cls.size = []\n",
    "        cls.ma = {}\n",
    "        cls.ma_kairi = {}\n",
    "\n",
    "        SqliteDBAdmin.initialize()\n",
    "        ticks = SqliteDBAdmin.read_from_sqlite(year_s, month_s, day_s, year_e, month_e, day_e)\n",
    "        print('completed read data from DB')\n",
    "        for tick in ticks:\n",
    "            #cls.datetime.append(dt.strptime(tick.datetime, '%Y-%m-%d %H:%M:%S'))\n",
    "            cls.datetime.append(tick.datetime)\n",
    "            cls.id.append(tick.id)\n",
    "            cls.price.append(tick.price)\n",
    "            cls.size.append(tick.size)\n",
    "        print('completed appended data to list')\n",
    "        cls.__calc_all_ma()\n",
    "        cls.__calc_ma_kairi()\n",
    "\n",
    "\n",
    "    @classmethod\n",
    "    @jit\n",
    "    def __calc_ma(cls, term):\n",
    "        print('calculating ma, term='+str(term))\n",
    "        sum = 0\n",
    "        ma = []\n",
    "        for i in range(term):\n",
    "            ma.append(0)\n",
    "            sum += cls.price[i]\n",
    "        ma.pop(0)\n",
    "        ma.append(float(sum) / float(term))\n",
    "        for i in range(len(cls.price) - term - 1):\n",
    "            sum = sum + cls.price[i + term] - cls.price[i]\n",
    "            ma.append(float(sum) / float(term))\n",
    "        print('completed ma calc')\n",
    "        return ma\n",
    "\n",
    "    @classmethod\n",
    "    @jit\n",
    "    def __calc_all_ma(cls):\n",
    "        for i in range(10):\n",
    "            term = (i+1) * 100\n",
    "            cls.ma[str(term)] = cls.__calc_ma(term)\n",
    "\n",
    "    @classmethod\n",
    "    @jit\n",
    "    def __calc_ma_kairi(cls):\n",
    "        for m in cls.ma:\n",
    "            kairi = []\n",
    "            num_v = int(m)\n",
    "            for i in range(num_v-1):\n",
    "                kairi.append(0)\n",
    "            for i in range(len(cls.ma[m]) - num_v+1):\n",
    "                kairi.append(cls.price[i + num_v-1] / cls.ma[m][i + num_v-1])\n",
    "            cls.ma_kairi[m] = kairi"
   ]
  },
  {
   "cell_type": "code",
   "execution_count": 1,
   "metadata": {},
   "outputs": [
    {
     "name": "stdout",
     "output_type": "stream",
     "text": [
      "completed read data from DB\n",
      "completed appended data to list\n",
      "calculating ma, term=1000\n",
      "completed ma calc\n",
      "calculating ma, term=2000\n",
      "completed ma calc\n",
      "calculating ma, term=3000\n",
      "completed ma calc\n",
      "calculating ma, term=4000\n",
      "completed ma calc\n",
      "calculating ma, term=5000\n",
      "completed ma calc\n",
      "calculating ma, term=6000\n",
      "completed ma calc\n",
      "calculating ma, term=7000\n",
      "completed ma calc\n",
      "calculating ma, term=8000\n",
      "completed ma calc\n",
      "calculating ma, term=9000\n",
      "completed ma calc\n",
      "calculating ma, term=10000\n",
      "completed ma calc\n"
     ]
    }
   ],
   "source": [
    "import MarketData\n",
    "MarketData.MarketData.initialize(2019,1,1,2019,1,2)"
   ]
  },
  {
   "cell_type": "code",
   "execution_count": 5,
   "metadata": {},
   "outputs": [
    {
     "data": {
      "text/plain": [
       "172958"
      ]
     },
     "execution_count": 5,
     "metadata": {},
     "output_type": "execute_result"
    }
   ],
   "source": [
    "len(MarketData.MarketData.price)"
   ]
  },
  {
   "cell_type": "code",
   "execution_count": 2,
   "metadata": {},
   "outputs": [
    {
     "name": "stdout",
     "output_type": "stream",
     "text": [
      "pl=60.0, num_trade=6, win_rate=1.0\n"
     ]
    }
   ],
   "source": [
    "import SimpleSim\n",
    "s = SimpleSim.SimpleSim()\n",
    "s.simple_sim(10000, 172900, 5000, 0.001, 1000, 1500, 5)"
   ]
  },
  {
   "cell_type": "code",
   "execution_count": 6,
   "metadata": {},
   "outputs": [
    {
     "name": "stderr",
     "output_type": "stream",
     "text": [
      "IOPub data rate exceeded.\n",
      "The notebook server will temporarily stop sending output\n",
      "to the client in order to avoid crashing it.\n",
      "To change this limit, set the config variable\n",
      "`--NotebookApp.iopub_data_rate_limit`.\n",
      "\n",
      "Current values:\n",
      "NotebookApp.iopub_data_rate_limit=1000000.0 (bytes/sec)\n",
      "NotebookApp.rate_limit_window=3.0 (secs)\n",
      "\n"
     ]
    }
   ],
   "source": [
    "MarketData.MarketData.convert_tick_to_minutes()"
   ]
  },
  {
   "cell_type": "code",
   "execution_count": 4,
   "metadata": {},
   "outputs": [
    {
     "data": {
      "text/html": [
       "<div>\n",
       "<style scoped>\n",
       "    .dataframe tbody tr th:only-of-type {\n",
       "        vertical-align: middle;\n",
       "    }\n",
       "\n",
       "    .dataframe tbody tr th {\n",
       "        vertical-align: top;\n",
       "    }\n",
       "\n",
       "    .dataframe thead th {\n",
       "        text-align: right;\n",
       "    }\n",
       "</style>\n",
       "<table border=\"1\" class=\"dataframe\">\n",
       "  <thead>\n",
       "    <tr style=\"text-align: right;\">\n",
       "      <th></th>\n",
       "    </tr>\n",
       "  </thead>\n",
       "  <tbody>\n",
       "  </tbody>\n",
       "</table>\n",
       "</div>"
      ],
      "text/plain": [
       "Empty DataFrame\n",
       "Columns: []\n",
       "Index: []"
      ]
     },
     "execution_count": 4,
     "metadata": {},
     "output_type": "execute_result"
    }
   ],
   "source": [
    "MarketData.MarketData.minutes_data"
   ]
  },
  {
   "cell_type": "code",
   "execution_count": 10,
   "metadata": {},
   "outputs": [
    {
     "ename": "ValueError",
     "evalue": "Length mismatch: Expected axis has 1 elements, new values have 3 elements",
     "output_type": "error",
     "traceback": [
      "\u001b[0;31m---------------------------------------------------------------------------\u001b[0m",
      "\u001b[0;31mValueError\u001b[0m                                Traceback (most recent call last)",
      "\u001b[0;32m<ipython-input-10-10d45fa0ac83>\u001b[0m in \u001b[0;36m<module>\u001b[0;34m\u001b[0m\n\u001b[1;32m      3\u001b[0m \u001b[0mse\u001b[0m \u001b[0;34m=\u001b[0m \u001b[0mpd\u001b[0m\u001b[0;34m.\u001b[0m\u001b[0mSeries\u001b[0m\u001b[0;34m(\u001b[0m\u001b[0md\u001b[0m\u001b[0;34m)\u001b[0m\u001b[0;34m\u001b[0m\u001b[0m\n\u001b[1;32m      4\u001b[0m \u001b[0mdf\u001b[0m \u001b[0;34m=\u001b[0m \u001b[0mpd\u001b[0m\u001b[0;34m.\u001b[0m\u001b[0mDataFrame\u001b[0m\u001b[0;34m(\u001b[0m\u001b[0mse\u001b[0m\u001b[0;34m)\u001b[0m\u001b[0;34m\u001b[0m\u001b[0m\n\u001b[0;32m----> 5\u001b[0;31m \u001b[0mdf\u001b[0m\u001b[0;34m.\u001b[0m\u001b[0mcolumns\u001b[0m \u001b[0;34m=\u001b[0m \u001b[0;34m[\u001b[0m\u001b[0;34m'open'\u001b[0m\u001b[0;34m,\u001b[0m \u001b[0;34m'hihg'\u001b[0m\u001b[0;34m,\u001b[0m \u001b[0;34m'dt'\u001b[0m\u001b[0;34m]\u001b[0m\u001b[0;34m\u001b[0m\u001b[0m\n\u001b[0m",
      "\u001b[0;32m~/Projects/btc-sim/btc-sim/lib/python3.6/site-packages/pandas/core/generic.py\u001b[0m in \u001b[0;36m__setattr__\u001b[0;34m(self, name, value)\u001b[0m\n\u001b[1;32m   5068\u001b[0m         \u001b[0;32mtry\u001b[0m\u001b[0;34m:\u001b[0m\u001b[0;34m\u001b[0m\u001b[0m\n\u001b[1;32m   5069\u001b[0m             \u001b[0mobject\u001b[0m\u001b[0;34m.\u001b[0m\u001b[0m__getattribute__\u001b[0m\u001b[0;34m(\u001b[0m\u001b[0mself\u001b[0m\u001b[0;34m,\u001b[0m \u001b[0mname\u001b[0m\u001b[0;34m)\u001b[0m\u001b[0;34m\u001b[0m\u001b[0m\n\u001b[0;32m-> 5070\u001b[0;31m             \u001b[0;32mreturn\u001b[0m \u001b[0mobject\u001b[0m\u001b[0;34m.\u001b[0m\u001b[0m__setattr__\u001b[0m\u001b[0;34m(\u001b[0m\u001b[0mself\u001b[0m\u001b[0;34m,\u001b[0m \u001b[0mname\u001b[0m\u001b[0;34m,\u001b[0m \u001b[0mvalue\u001b[0m\u001b[0;34m)\u001b[0m\u001b[0;34m\u001b[0m\u001b[0m\n\u001b[0m\u001b[1;32m   5071\u001b[0m         \u001b[0;32mexcept\u001b[0m \u001b[0mAttributeError\u001b[0m\u001b[0;34m:\u001b[0m\u001b[0;34m\u001b[0m\u001b[0m\n\u001b[1;32m   5072\u001b[0m             \u001b[0;32mpass\u001b[0m\u001b[0;34m\u001b[0m\u001b[0m\n",
      "\u001b[0;32mpandas/_libs/properties.pyx\u001b[0m in \u001b[0;36mpandas._libs.properties.AxisProperty.__set__\u001b[0;34m()\u001b[0m\n",
      "\u001b[0;32m~/Projects/btc-sim/btc-sim/lib/python3.6/site-packages/pandas/core/generic.py\u001b[0m in \u001b[0;36m_set_axis\u001b[0;34m(self, axis, labels)\u001b[0m\n\u001b[1;32m    627\u001b[0m \u001b[0;34m\u001b[0m\u001b[0m\n\u001b[1;32m    628\u001b[0m     \u001b[0;32mdef\u001b[0m \u001b[0m_set_axis\u001b[0m\u001b[0;34m(\u001b[0m\u001b[0mself\u001b[0m\u001b[0;34m,\u001b[0m \u001b[0maxis\u001b[0m\u001b[0;34m,\u001b[0m \u001b[0mlabels\u001b[0m\u001b[0;34m)\u001b[0m\u001b[0;34m:\u001b[0m\u001b[0;34m\u001b[0m\u001b[0m\n\u001b[0;32m--> 629\u001b[0;31m         \u001b[0mself\u001b[0m\u001b[0;34m.\u001b[0m\u001b[0m_data\u001b[0m\u001b[0;34m.\u001b[0m\u001b[0mset_axis\u001b[0m\u001b[0;34m(\u001b[0m\u001b[0maxis\u001b[0m\u001b[0;34m,\u001b[0m \u001b[0mlabels\u001b[0m\u001b[0;34m)\u001b[0m\u001b[0;34m\u001b[0m\u001b[0m\n\u001b[0m\u001b[1;32m    630\u001b[0m         \u001b[0mself\u001b[0m\u001b[0;34m.\u001b[0m\u001b[0m_clear_item_cache\u001b[0m\u001b[0;34m(\u001b[0m\u001b[0;34m)\u001b[0m\u001b[0;34m\u001b[0m\u001b[0m\n\u001b[1;32m    631\u001b[0m \u001b[0;34m\u001b[0m\u001b[0m\n",
      "\u001b[0;32m~/Projects/btc-sim/btc-sim/lib/python3.6/site-packages/pandas/core/internals/managers.py\u001b[0m in \u001b[0;36mset_axis\u001b[0;34m(self, axis, new_labels)\u001b[0m\n\u001b[1;32m    153\u001b[0m             raise ValueError(\n\u001b[1;32m    154\u001b[0m                 \u001b[0;34m'Length mismatch: Expected axis has {old} elements, new '\u001b[0m\u001b[0;34m\u001b[0m\u001b[0m\n\u001b[0;32m--> 155\u001b[0;31m                 'values have {new} elements'.format(old=old_len, new=new_len))\n\u001b[0m\u001b[1;32m    156\u001b[0m \u001b[0;34m\u001b[0m\u001b[0m\n\u001b[1;32m    157\u001b[0m         \u001b[0mself\u001b[0m\u001b[0;34m.\u001b[0m\u001b[0maxes\u001b[0m\u001b[0;34m[\u001b[0m\u001b[0maxis\u001b[0m\u001b[0;34m]\u001b[0m \u001b[0;34m=\u001b[0m \u001b[0mnew_labels\u001b[0m\u001b[0;34m\u001b[0m\u001b[0m\n",
      "\u001b[0;31mValueError\u001b[0m: Length mismatch: Expected axis has 1 elements, new values have 3 elements"
     ]
    }
   ],
   "source": [
    "import pandas as pd\n",
    "d =[[1,2,'d'],[3,4,'f']]\n",
    "se = pd.Series(d)\n",
    "df = pd.DataFrame(se)\n",
    "df.columns = ['open', 'hihg', 'dt']"
   ]
  },
  {
   "cell_type": "code",
   "execution_count": 8,
   "metadata": {},
   "outputs": [
    {
     "data": {
      "text/plain": [
       "0    [1, 2, d]\n",
       "1    [3, 4, f]\n",
       "dtype: object"
      ]
     },
     "execution_count": 8,
     "metadata": {},
     "output_type": "execute_result"
    }
   ],
   "source": [
    "se"
   ]
  },
  {
   "cell_type": "code",
   "execution_count": null,
   "metadata": {},
   "outputs": [],
   "source": []
  }
 ],
 "metadata": {
  "kernelspec": {
   "display_name": "Python 3",
   "language": "python",
   "name": "python3"
  },
  "language_info": {
   "codemirror_mode": {
    "name": "ipython",
    "version": 3
   },
   "file_extension": ".py",
   "mimetype": "text/x-python",
   "name": "python",
   "nbconvert_exporter": "python",
   "pygments_lexer": "ipython3",
   "version": "3.6.3"
  }
 },
 "nbformat": 4,
 "nbformat_minor": 2
}
