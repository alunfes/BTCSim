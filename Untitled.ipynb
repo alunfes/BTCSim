{
 "cells": [
  {
   "cell_type": "code",
   "execution_count": 64,
   "metadata": {},
   "outputs": [
    {
     "name": "stdout",
     "output_type": "stream",
     "text": [
      "2019-01-30 21:19:55,761 INFO sqlalchemy.engine.base.Engine SELECT CAST('test plain returns' AS VARCHAR(60)) AS anon_1\n",
      "2019-01-30 21:19:55,763 INFO sqlalchemy.engine.base.Engine ()\n",
      "2019-01-30 21:19:55,767 INFO sqlalchemy.engine.base.Engine SELECT CAST('test unicode returns' AS VARCHAR(60)) AS anon_1\n",
      "2019-01-30 21:19:55,767 INFO sqlalchemy.engine.base.Engine ()\n",
      "2019-01-30 21:19:55,771 INFO sqlalchemy.engine.base.Engine PRAGMA table_info(\"tick\")\n",
      "2019-01-30 21:19:55,772 INFO sqlalchemy.engine.base.Engine ()\n",
      "2019-01-30 21:19:55,778 INFO sqlalchemy.engine.base.Engine \n",
      "CREATE TABLE tick (\n",
      "\tdatetime DATETIME, \n",
      "\tprice FLOAT, \n",
      "\tsize FLOAT\n",
      ")\n",
      "\n",
      "\n",
      "2019-01-30 21:19:55,779 INFO sqlalchemy.engine.base.Engine ()\n",
      "2019-01-30 21:19:55,783 INFO sqlalchemy.engine.base.Engine COMMIT\n",
      "2019-01-30 21:19:55,788 INFO sqlalchemy.engine.base.Engine BEGIN (implicit)\n",
      "2019-01-30 21:19:55,893 INFO sqlalchemy.engine.base.Engine INSERT INTO tick (datetime, price, size) VALUES (?, ?, ?)\n",
      "2019-01-30 21:19:55,894 INFO sqlalchemy.engine.base.Engine (('2017-07-04 17:01:38.000000', 296127.0, 0.01), ('2017-07-04 17:01:38.000000', 296016.0, 0.6), ('2017-07-04 17:01:39.000000', 296016.0, 0.0186), ('2017-07-04 17:01:42.000000', 296550.0, 0.05), ('2017-07-04 17:01:50.000000', 296558.0, 0.05), ('2017-07-04 17:01:59.000000', 296539.0, 0.22919708), ('2017-07-04 17:01:59.000000', 296540.0, 0.20080292), ('2017-07-04 17:02:07.000000', 296539.0, 0.04583026)  ... displaying 10 of 10000 total bound parameter sets ...  ('2017-07-05 00:16:20.000000', 290564.0, 0.0369), ('2017-07-05 00:16:21.000000', 290564.0, 1.9231))\n",
      "2019-01-30 21:19:55,935 INFO sqlalchemy.engine.base.Engine COMMIT\n"
     ]
    }
   ],
   "source": [
    "import pandas as pd\n",
    "from datetime import datetime\n",
    "import numpy as np\n",
    "from sqlalchemy import create_engine\n",
    "\n",
    "def read():\n",
    "    dt = None\n",
    "    price = None\n",
    "    size = None\n",
    "    i = 0\n",
    "    engine = create_engine('sqlite:///tick.db', echo=True)\n",
    "    #connex = engine.connect()\n",
    "    for chunk in pd.read_csv(\"tick.csv\", chunksize=10000, header=None):\n",
    "        dt = chunk.iloc[:,:1].applymap(datetime.fromtimestamp)\n",
    "        price = chunk.iloc[:,1:2]\n",
    "        size = chunk.iloc[:,2:3]\n",
    "        con = pd.concat([dt, price, size], axis=1)\n",
    "        con.columns = ['datetime','price','size']\n",
    "        con.to_sql('tick', engine, if_exists=\"replace\", index=False)\n",
    "        break\n",
    "    return engine\n",
    "engine = read()"
   ]
  },
  {
   "cell_type": "code",
   "execution_count": 2,
   "metadata": {},
   "outputs": [],
   "source": [
    "from sqlalchemy.ext.declarative import declarative_base\n",
    "from sqlalchemy import Column, Integer, Float, DATETIME\n",
    "from sqlalchemy import create_engine\n",
    "from sqlalchemy.orm import sessionmaker\n",
    "from sqlalchemy import create_engine, schema, Table, and_\n",
    "import datetime\n",
    "Base = declarative_base()\n",
    "from numba import jit\n",
    "\n",
    "\n",
    "class Ticks(Base):\n",
    "    __tablename__ = 'ticks'\n",
    "    id = Column('id', Integer, primary_key=True, autoincrement=False)\n",
    "    datetime = Column('datetime', DATETIME)\n",
    "    price = Column('price', Float)\n",
    "    size = Column('size', Float)\n",
    "\n",
    "    def __repr__(self):\n",
    "        return 'Ticks(%s, %s, %s, %s)' % (self.id, self.datetime, self.price, self.size)\n",
    "\n",
    "    \n",
    "class SqliteDBAdmin:\n",
    "    @classmethod\n",
    "    def initialize(cls):\n",
    "        cls.engine = create_engine('sqlite:///tick.db', echo=False)\n",
    "\n",
    "    @classmethod\n",
    "    def create_table(cls):\n",
    "        Base.metadata.create_all(bind=cls.engine, checkfirst=False)\n",
    "        \n",
    "    @classmethod\n",
    "    def read_from_sqlite(cls,year_s, month_s, day_s, year_e, month_e, day_e):\n",
    "        Session = sessionmaker(bind=cls.engine)\n",
    "        session = Session()\n",
    "        with cls.engine.connect() as conn:\n",
    "            res = session.query(Ticks).filter(and_(Ticks.datetime <= datetime.date(year_e, month_e, day_e), \n",
    "                                                   Ticks.datetime >= datetime.date(year_s, month_s, day_s))).all()\n",
    "            session.close()\n",
    "            return res\n",
    "        \n",
    "SqliteDBAdmin.initialize()\n",
    "#SqliteDBAdmin.create_table()\n",
    "res = SqliteDBAdmin.read_from_sqlite(2019,1,10,2019,1,11)"
   ]
  },
  {
   "cell_type": "code",
   "execution_count": null,
   "metadata": {},
   "outputs": [],
   "source": [
    "price = []\n",
    "size = []\n",
    "datetime = []\n",
    "for tick in res:\n",
    "    print(tick.datetime,tick.price,tick.size)"
   ]
  },
  {
   "cell_type": "code",
   "execution_count": 5,
   "metadata": {},
   "outputs": [
    {
     "name": "stdout",
     "output_type": "stream",
     "text": [
      "completed read data from DB\n",
      "completed appended data to list\n",
      "calculating ma, term=100\n",
      "completed ma calc\n",
      "calculating ma, term=200\n",
      "completed ma calc\n",
      "calculating ma, term=300\n",
      "completed ma calc\n",
      "calculating ma, term=400\n",
      "completed ma calc\n",
      "calculating ma, term=500\n",
      "completed ma calc\n",
      "calculating ma, term=600\n",
      "completed ma calc\n",
      "calculating ma, term=700\n",
      "completed ma calc\n",
      "calculating ma, term=800\n",
      "completed ma calc\n",
      "calculating ma, term=900\n",
      "completed ma calc\n",
      "calculating ma, term=1000\n",
      "completed ma calc\n"
     ]
    }
   ],
   "source": [
    "import pandas as pd\n",
    "import numpy as np\n",
    "from SqliteDBAdmin import SqliteDBAdmin\n",
    "from numba import jit\n",
    "import datetime\n",
    "\n",
    "\n",
    "class MarketData:\n",
    "    @classmethod\n",
    "    def initialize(cls, year_s, month_s, day_s, year_e, month_e, day_e):\n",
    "        cls.datetime = []\n",
    "        cls.id = []\n",
    "        cls.price = []\n",
    "        cls.size = []\n",
    "        cls.ma = {}\n",
    "        cls.ma_kairi = {}\n",
    "\n",
    "        SqliteDBAdmin.initialize()\n",
    "        ticks = SqliteDBAdmin.read_from_sqlite(year_s, month_s, day_s, year_e, month_e, day_e)\n",
    "        print('completed read data from DB')\n",
    "        for tick in ticks:\n",
    "            #cls.datetime.append(datetime.datetime.strptime(tick.datetime, '%m/%d/%Y%H:%M:%S'))\n",
    "            cls.datetime.append(tick.datetime)\n",
    "            cls.id.append(tick.id)\n",
    "            cls.price.append(tick.price)\n",
    "            cls.size.append(tick.size)\n",
    "        print('completed appended data to list')\n",
    "        cls.__calc_all_ma()\n",
    "        cls.__calc_ma_kairi()\n",
    "\n",
    "\n",
    "    @classmethod\n",
    "    @jit\n",
    "    def __calc_ma(cls, term):\n",
    "        print('calculating ma, term='+str(term))\n",
    "        sum = 0\n",
    "        ma = []\n",
    "        for i in range(term):\n",
    "            ma.append(0)\n",
    "            sum += cls.price[i]\n",
    "        ma.pop(0)\n",
    "        ma.append(float(sum) / float(term))\n",
    "        for i in range(len(cls.price) - term - 1):\n",
    "            sum = sum + cls.price[i + term] - cls.price[i]\n",
    "            ma.append(float(sum) / float(term))\n",
    "        print('completed ma calc')\n",
    "        return ma\n",
    "\n",
    "    @classmethod\n",
    "    @jit\n",
    "    def __calc_all_ma(cls):\n",
    "        for i in range(10):\n",
    "            term = (i+1) * 100\n",
    "            cls.ma[str(term)] = cls.__calc_ma(term)\n",
    "\n",
    "    @classmethod\n",
    "    @jit\n",
    "    def __calc_ma_kairi(cls):\n",
    "        for m in cls.ma:\n",
    "            kairi = []\n",
    "            num_v = int(m)\n",
    "            for i in range(num_v-1):\n",
    "                kairi.append(0)\n",
    "            for i in range(len(cls.ma[m]) - num_v+1):\n",
    "                kairi.append(cls.price[i + num_v-1] / cls.ma[m][i + num_v-1])\n",
    "            cls.ma_kairi[m] = kairi\n",
    "\n",
    "\n",
    "MarketData.initialize(2018,10,1,2018,10,2)"
   ]
  },
  {
   "cell_type": "code",
   "execution_count": 40,
   "metadata": {},
   "outputs": [],
   "source": [
    "oid = [0,1,2]\n",
    "op = [100,200,100]\n",
    "\n",
    "def testf():\n",
    "    def inner_f(x):\n",
    "        op[x] = op[x]+1\n",
    "        filter(inner_f(x) ,oid)\n",
    "testf()"
   ]
  },
  {
   "cell_type": "code",
   "execution_count": 1,
   "metadata": {},
   "outputs": [],
   "source": [
    "import pandas as pd\n",
    "import numpy as np\n",
    "from SqliteDBAdmin import SqliteDBAdmin\n",
    "from numba import jit\n",
    "from datetime import datetime as dt\n",
    "\n",
    "\n",
    "class MarketData:\n",
    "    @classmethod\n",
    "    def initialize(cls, year_s, month_s, day_s, year_e, month_e, day_e):\n",
    "        cls.datetime = []\n",
    "        cls.id = []\n",
    "        cls.price = []\n",
    "        cls.size = []\n",
    "        cls.ma = {}\n",
    "        cls.ma_kairi = {}\n",
    "\n",
    "        SqliteDBAdmin.initialize()\n",
    "        ticks = SqliteDBAdmin.read_from_sqlite(year_s, month_s, day_s, year_e, month_e, day_e)\n",
    "        print('completed read data from DB')\n",
    "        for tick in ticks:\n",
    "            #cls.datetime.append(dt.strptime(tick.datetime, '%Y-%m-%d %H:%M:%S'))\n",
    "            cls.datetime.append(tick.datetime)\n",
    "            cls.id.append(tick.id)\n",
    "            cls.price.append(tick.price)\n",
    "            cls.size.append(tick.size)\n",
    "        print('completed appended data to list')\n",
    "        cls.__calc_all_ma()\n",
    "        cls.__calc_ma_kairi()\n",
    "\n",
    "\n",
    "    @classmethod\n",
    "    @jit\n",
    "    def __calc_ma(cls, term):\n",
    "        print('calculating ma, term='+str(term))\n",
    "        sum = 0\n",
    "        ma = []\n",
    "        for i in range(term):\n",
    "            ma.append(0)\n",
    "            sum += cls.price[i]\n",
    "        ma.pop(0)\n",
    "        ma.append(float(sum) / float(term))\n",
    "        for i in range(len(cls.price) - term - 1):\n",
    "            sum = sum + cls.price[i + term] - cls.price[i]\n",
    "            ma.append(float(sum) / float(term))\n",
    "        print('completed ma calc')\n",
    "        return ma\n",
    "\n",
    "    @classmethod\n",
    "    @jit\n",
    "    def __calc_all_ma(cls):\n",
    "        for i in range(10):\n",
    "            term = (i+1) * 100\n",
    "            cls.ma[str(term)] = cls.__calc_ma(term)\n",
    "\n",
    "    @classmethod\n",
    "    @jit\n",
    "    def __calc_ma_kairi(cls):\n",
    "        for m in cls.ma:\n",
    "            kairi = []\n",
    "            num_v = int(m)\n",
    "            for i in range(num_v-1):\n",
    "                kairi.append(0)\n",
    "            for i in range(len(cls.ma[m]) - num_v+1):\n",
    "                kairi.append(cls.price[i + num_v-1] / cls.ma[m][i + num_v-1])\n",
    "            cls.ma_kairi[m] = kairi\n",
    "\n"
   ]
  },
  {
   "cell_type": "code",
   "execution_count": 7,
   "metadata": {},
   "outputs": [],
   "source": []
  },
  {
   "cell_type": "code",
   "execution_count": 15,
   "metadata": {},
   "outputs": [
    {
     "data": {
      "text/plain": [
       "157"
      ]
     },
     "execution_count": 15,
     "metadata": {},
     "output_type": "execute_result"
    }
   ],
   "source": []
  },
  {
   "cell_type": "code",
   "execution_count": 1,
   "metadata": {},
   "outputs": [
    {
     "name": "stdout",
     "output_type": "stream",
     "text": [
      "completed read data from DB\n",
      "completed appended data to list\n",
      "calculating ma, term=100\n",
      "completed ma calc\n",
      "calculating ma, term=200\n",
      "completed ma calc\n",
      "calculating ma, term=300\n",
      "completed ma calc\n",
      "calculating ma, term=400\n",
      "completed ma calc\n",
      "calculating ma, term=500\n",
      "completed ma calc\n",
      "calculating ma, term=600\n",
      "completed ma calc\n",
      "calculating ma, term=700\n",
      "completed ma calc\n",
      "calculating ma, term=800\n",
      "completed ma calc\n",
      "calculating ma, term=900\n",
      "completed ma calc\n",
      "calculating ma, term=1000\n",
      "completed ma calc\n"
     ]
    }
   ],
   "source": [
    "import MarketData\n",
    "MarketData.MarketData.initialize(2019,1,1,2019,1,2)"
   ]
  },
  {
   "cell_type": "code",
   "execution_count": 16,
   "metadata": {},
   "outputs": [],
   "source": [
    "import pandas as pd\n",
    "p = pd.Series(MarketData.MarketData.price)\n",
    "ma = pd.Series(MarketData.MarketData.ma['500'])\n",
    "kairi = pd.Series(MarketData.MarketData.ma_kairi['500'])"
   ]
  },
  {
   "cell_type": "code",
   "execution_count": 13,
   "metadata": {},
   "outputs": [
    {
     "data": {
      "text/plain": [
       "411697.0"
      ]
     },
     "execution_count": 13,
     "metadata": {},
     "output_type": "execute_result"
    }
   ],
   "source": [
    "p[499]"
   ]
  },
  {
   "cell_type": "code",
   "execution_count": 14,
   "metadata": {},
   "outputs": [
    {
     "data": {
      "text/plain": [
       "416124.288"
      ]
     },
     "execution_count": 14,
     "metadata": {},
     "output_type": "execute_result"
    }
   ],
   "source": [
    "ma[499]"
   ]
  },
  {
   "cell_type": "code",
   "execution_count": 17,
   "metadata": {},
   "outputs": [
    {
     "data": {
      "text/plain": [
       "0.9893606594768147"
      ]
     },
     "execution_count": 17,
     "metadata": {},
     "output_type": "execute_result"
    }
   ],
   "source": [
    "kairi[499]"
   ]
  },
  {
   "cell_type": "code",
   "execution_count": 18,
   "metadata": {},
   "outputs": [
    {
     "data": {
      "text/plain": [
       "0.9893606594768147"
      ]
     },
     "execution_count": 18,
     "metadata": {},
     "output_type": "execute_result"
    }
   ],
   "source": [
    "p[499]/ma[499]"
   ]
  },
  {
   "cell_type": "code",
   "execution_count": null,
   "metadata": {},
   "outputs": [],
   "source": []
  }
 ],
 "metadata": {
  "kernelspec": {
   "display_name": "Python 3",
   "language": "python",
   "name": "python3"
  },
  "language_info": {
   "codemirror_mode": {
    "name": "ipython",
    "version": 3
   },
   "file_extension": ".py",
   "mimetype": "text/x-python",
   "name": "python",
   "nbconvert_exporter": "python",
   "pygments_lexer": "ipython3",
   "version": "3.6.3"
  }
 },
 "nbformat": 4,
 "nbformat_minor": 2
}
